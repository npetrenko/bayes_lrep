{
 "cells": [
  {
   "cell_type": "code",
   "execution_count": 1,
   "metadata": {},
   "outputs": [],
   "source": [
    "import tensorflow as tf\n",
    "import numpy as np\n",
    "from matplotlib import pyplot as plt\n",
    "from sklearn.preprocessing import OneHotEncoder"
   ]
  },
  {
   "cell_type": "code",
   "execution_count": 2,
   "metadata": {},
   "outputs": [
    {
     "name": "stdout",
     "output_type": "stream",
     "text": [
      "1.3.0\n"
     ]
    }
   ],
   "source": [
    "print(tf.__version__)"
   ]
  },
  {
   "cell_type": "code",
   "execution_count": 3,
   "metadata": {},
   "outputs": [],
   "source": [
    "from IPython.display import clear_output"
   ]
  },
  {
   "cell_type": "code",
   "execution_count": 5,
   "metadata": {},
   "outputs": [
    {
     "name": "stdout",
     "output_type": "stream",
     "text": [
      "Loading data...\n"
     ]
    },
    {
     "name": "stderr",
     "output_type": "stream",
     "text": [
      "/usr/lib/python3.6/site-packages/sklearn/model_selection/_split.py:2026: FutureWarning: From version 0.21, test_size will always complement train_size unless both are specified.\n",
      "  FutureWarning)\n"
     ]
    }
   ],
   "source": [
    "from sklearn.datasets import fetch_mldata\n",
    "from sklearn.model_selection import train_test_split\n",
    "\n",
    "def load_dataset():\n",
    "    # We first define a download function, supporting both Python 2 and 3.\n",
    "    mnist = fetch_mldata('MNIST original')\n",
    "    data = mnist['data'].reshape((70000, 28, 28, 1))\n",
    "    target = mnist['target']\n",
    "    # We can now download and read the training and test set images and labels.\n",
    "    X_train, X_test, y_train, y_test = train_test_split(data, target, train_size=500)\n",
    "    # We reserve the last 10000 training examples for validation.\n",
    "    X_train, X_val = X_train[:-300], X_train[-300:]\n",
    "    y_train, y_val = y_train[:-300], y_train[-300:]\n",
    "\n",
    "    # We just return all the arrays in order, as expected in main().\n",
    "    # (It doesn't matter how we do this as long as we can read them again.)\n",
    "    return X_train, y_train, X_val, y_val, X_test, y_test\n",
    "\n",
    "print(\"Loading data...\")\n",
    "X_train, y_train, X_val, y_val, X_test, y_test = load_dataset()\n",
    "total_size = X_train.shape[0]"
   ]
  },
  {
   "cell_type": "code",
   "execution_count": 6,
   "metadata": {},
   "outputs": [],
   "source": [
    "y_oh = OneHotEncoder(sparse=False)\n",
    "y_oh.fit(y_train.reshape((-1,1)))\n",
    "y_train, y_val, y_test = map(lambda x: y_oh.transform(x.reshape((-1,1))).astype('float32'), [y_train, y_val, y_test])"
   ]
  },
  {
   "cell_type": "code",
   "execution_count": 7,
   "metadata": {},
   "outputs": [],
   "source": [
    "X_train, X_val, X_test = map(lambda x: (x.astype('float32') - 122)/255, [X_train, X_val, X_test])"
   ]
  },
  {
   "cell_type": "code",
   "execution_count": 8,
   "metadata": {},
   "outputs": [
    {
     "data": {
      "text/plain": [
       "(300, 10)"
      ]
     },
     "execution_count": 8,
     "metadata": {},
     "output_type": "execute_result"
    }
   ],
   "source": [
    "y_val.shape"
   ]
  },
  {
   "cell_type": "code",
   "execution_count": 9,
   "metadata": {},
   "outputs": [
    {
     "data": {
      "text/plain": [
       "dtype('float32')"
      ]
     },
     "execution_count": 9,
     "metadata": {},
     "output_type": "execute_result"
    }
   ],
   "source": [
    "X_val.dtype"
   ]
  },
  {
   "cell_type": "code",
   "execution_count": 10,
   "metadata": {},
   "outputs": [],
   "source": [
    "def create_priorkl(pairs, prior_std):\n",
    "    with tf.name_scope('KL'):\n",
    "        for mu, logsigma in pairs:\n",
    "            kl = -logsigma + (tf.exp(logsigma)**2 + mu**2)/(2*prior_std**2)\n",
    "            kl = tf.reduce_sum(kl)\n",
    "            tf.add_to_collection('KLS', kl)\n",
    "            \n",
    "def conv(x, nbfilter, filtersize, name, lrep=True):\n",
    "    prior_std = 1\n",
    "    \n",
    "    s = int(x.shape[-2])\n",
    "    \n",
    "    input_f = int(x.shape[-1])\n",
    "    kernelshape = [filtersize, filtersize, input_f, nbfilter]\n",
    "    \n",
    "    with tf.variable_scope(name, initializer=tf.random_normal_initializer(stddev=0.05)):\n",
    "        with tf.name_scope(name+'/'):\n",
    "            kernel_mu = tf.get_variable('kernel_mu', shape=kernelshape)\n",
    "            kernel_logsigma = tf.get_variable('kernel_logsigma', shape=kernelshape) - 3\n",
    "            #kernel_logsigma = tf.clip_by_value(kernel_logsigma, -5, 4)\n",
    "            kernel_sigma = tf.exp(kernel_logsigma)\n",
    "            tf.summary.histogram('kernel_sigma', kernel_sigma)\n",
    "            \n",
    "            if lrep:\n",
    "                pmu = tf.nn.conv2d(x, kernel_mu, [1,1,1,1], padding='SAME')\n",
    "                pvar = tf.nn.conv2d(x**2, kernel_sigma**2, [1,1,1,1], padding='SAME') + 0.001\n",
    "                p = tf.random_normal(tf.shape(pmu))*tf.sqrt(pvar) + pmu\n",
    "            else:\n",
    "                kernel = tf.random_normal(tf.shape(kernel_mu))*kernel_sigma + kernel_mu\n",
    "                p = tf.nn.conv2d(x, kernel, [1,1,1,1], padding='SAME')\n",
    "                \n",
    "            bias_mu = tf.get_variable('bias_mu', shape=[1,1,1,nbfilter])\n",
    "            bias_logsigma = tf.get_variable('bias_logsigma', shape=[1,1,1,nbfilter]) - 3\n",
    "            #bias_logsigma = tf.clip_by_value(bias_logsigma, -5, 4)\n",
    "            bias_sigma = tf.exp(bias_logsigma)\n",
    "            \n",
    "            create_priorkl([[kernel_mu, kernel_logsigma], [bias_mu, bias_logsigma]], prior_std)\n",
    "            \n",
    "            p += tf.random_normal(tf.shape(bias_mu))*bias_sigma + bias_mu\n",
    "            \n",
    "            p = tf.nn.relu(p)\n",
    "            p.set_shape([None,s,s,nbfilter])\n",
    "            return p\n",
    "        \n",
    "def dense(x, nneurons, name, act=tf.nn.relu, lrep=True):\n",
    "    prior_std=1\n",
    "    \n",
    "    input_n = int(x.shape[-1])\n",
    "    Wshape = [input_n, nneurons]\n",
    "    with tf.variable_scope(name, initializer=tf.random_normal_initializer(stddev=0.05)):\n",
    "        with tf.name_scope(name+'/'):\n",
    "            W_mu = tf.get_variable('kernel_mu', shape=Wshape)\n",
    "            W_logsigma = tf.get_variable('kernel_logsigma', shape=Wshape) - 3\n",
    "            #W_logsigma = tf.clip_by_value(W_logsigma, -5, 4)\n",
    "            W_sigma = tf.exp(W_logsigma)\n",
    "            tf.summary.histogram('W_sigma', W_sigma)\n",
    "            \n",
    "            b_mu = tf.get_variable('bias_mu', shape=[1,nneurons])\n",
    "            b_logsigma = tf.get_variable('bias_logsigma', shape=[1,nneurons]) - 3\n",
    "            #b_logsigma = tf.clip_by_value(b_logsigma, -5, 4)\n",
    "            b_sigma = tf.exp(b_logsigma)\n",
    "            \n",
    "            create_priorkl([[W_mu, W_logsigma], [b_mu, b_logsigma]], prior_std)\n",
    "            \n",
    "            if lrep:\n",
    "                p_mu = tf.matmul(x, W_mu)\n",
    "                p_sigma = tf.sqrt(tf.matmul(x**2, W_sigma**2) + 0.001)\n",
    "                \n",
    "                p = tf.random_normal(tf.shape(p_mu))*p_sigma + p_mu\n",
    "            else:\n",
    "                W = tf.random_normal(tf.shape(W_mu))*W_sigma + W_mu\n",
    "                p = tf.matmul(x, W)\n",
    "                \n",
    "            p += tf.random_normal(tf.shape(b_mu))*b_sigma + b_mu\n",
    "            p = act(p)\n",
    "            \n",
    "            p.set_shape([None, nneurons])\n",
    "            return p"
   ]
  },
  {
   "cell_type": "code",
   "execution_count": 11,
   "metadata": {},
   "outputs": [],
   "source": [
    "x_inp = tf.placeholder(tf.float32, [None,28,28,1])\n",
    "y_inp = tf.placeholder(tf.float32, [None,10])\n",
    "kl_scaler = tf.placeholder_with_default(200., (), 'kl_scaler')\n",
    "\n",
    "lrep = True\n",
    "\n",
    "x = conv(x_inp, 40, 3, 'c1', lrep=lrep)\n",
    "x = conv(x, 40, 3, 'c2', lrep=lrep)\n",
    "x = tf.nn.max_pool(x, (1,2,2,1), [1,2,2,1], 'SAME')\n",
    "x = conv(x, 40, 3, 'c3', lrep=lrep)\n",
    "    \n",
    "x = conv(x, 40, 3, 'c4', lrep=lrep)\n",
    "x = tf.nn.max_pool(x, (1,2,2,1), [1,2,2,1], 'SAME')\n",
    "    \n",
    "x = conv(x, 20, 3, 'c5', lrep=lrep)  \n",
    "x = tf.reshape(x, [-1, (int(x.shape[-2])**2)*int(x.shape[-1])])\n",
    "\n",
    "x = dense(x, 20, 'd1', lrep=lrep)\n",
    "x = dense(x, 10, 'd2', act=lambda x: x, lrep=lrep)"
   ]
  },
  {
   "cell_type": "code",
   "execution_count": 12,
   "metadata": {},
   "outputs": [],
   "source": [
    "output = tf.nn.softmax(x)"
   ]
  },
  {
   "cell_type": "code",
   "execution_count": 13,
   "metadata": {},
   "outputs": [],
   "source": [
    "batchsize = 30\n",
    "kls = tf.get_collection('KLS')\n",
    "\n",
    "logit = tf.placeholder_with_default(x, shape=[None,10])\n",
    "\n",
    "l1 = tf.reduce_mean(tf.nn.softmax_cross_entropy_with_logits(logits=logit, labels=y_inp))\n",
    "l2 = (batchsize*sum(kls)/len(X_train))/kl_scaler\n",
    "loss = l1 + l2"
   ]
  },
  {
   "cell_type": "code",
   "execution_count": 14,
   "metadata": {},
   "outputs": [],
   "source": [
    "#loss /= 500"
   ]
  },
  {
   "cell_type": "code",
   "execution_count": 15,
   "metadata": {},
   "outputs": [],
   "source": [
    "def gtop(loss):\n",
    "    with tf.name_scope('optimizer'):\n",
    "        lr = tf.get_variable('learning_rate', initializer=0.001, trainable=False)\n",
    "        \n",
    "        optimizer = tf.train.AdamOptimizer(learning_rate=lr)\n",
    "        gvs = optimizer.compute_gradients(loss)\n",
    "        capped_gvs = [(tf.clip_by_value(grad, -10., 10.), var) for grad, var in gvs if grad is not None]\n",
    "        \n",
    "        checks = [tf.check_numerics(x[0], message=x[1].name) for x in capped_gvs]\n",
    "        #checks = []\n",
    "        with tf.control_dependencies(checks):\n",
    "            train_op = optimizer.apply_gradients(capped_gvs)\n",
    "        return train_op\n",
    "\n",
    "train_op = gtop(loss)"
   ]
  },
  {
   "cell_type": "code",
   "execution_count": 16,
   "metadata": {},
   "outputs": [],
   "source": [
    "def train(X, y):\n",
    "    return sess.run([loss, train_op], {x_inp:X, y_inp:y, kl_scaler: 150.})[0]\n",
    "\n",
    "def evaluate(X, y):\n",
    "    nsamples = 20\n",
    "    pred = np.zeros([len(y), 10])\n",
    "    for _ in range(nsamples):\n",
    "        pred += sess.run(output, {x_inp:X})\n",
    "    return np.mean(np.argmax(pred, axis=-1) == np.argmax(y, axis=-1))\n",
    "\n",
    "def eval_loss(X, y):\n",
    "    return loss_sum.eval({x_inp:X, y_inp:y, kl_scaler: 150.})"
   ]
  },
  {
   "cell_type": "code",
   "execution_count": 17,
   "metadata": {},
   "outputs": [],
   "source": [
    "hist_sum = tf.summary.merge_all()"
   ]
  },
  {
   "cell_type": "code",
   "execution_count": 18,
   "metadata": {},
   "outputs": [],
   "source": [
    "loss_sum = tf.summary.merge([tf.summary.scalar('logprob', l1), \n",
    "                             tf.summary.scalar('kl', l2), \n",
    "                             tf.summary.scalar('ELBO', loss)])"
   ]
  },
  {
   "cell_type": "code",
   "execution_count": 19,
   "metadata": {},
   "outputs": [
    {
     "name": "stdout",
     "output_type": "stream",
     "text": [
      "rm: cannot remove '/tmp/bayes_mnist/': No such file or directory\r\n"
     ]
    }
   ],
   "source": [
    "!rm -R /tmp/bayes_mnist/"
   ]
  },
  {
   "cell_type": "code",
   "execution_count": 20,
   "metadata": {},
   "outputs": [],
   "source": [
    "writer = tf.summary.FileWriter('/tmp/bayes_mnist')"
   ]
  },
  {
   "cell_type": "code",
   "execution_count": 21,
   "metadata": {},
   "outputs": [],
   "source": [
    "writer.add_graph(tf.get_default_graph())"
   ]
  },
  {
   "cell_type": "code",
   "execution_count": 22,
   "metadata": {},
   "outputs": [],
   "source": [
    "from tensorflow.python import debug as tf_debug"
   ]
  },
  {
   "cell_type": "code",
   "execution_count": 23,
   "metadata": {},
   "outputs": [],
   "source": [
    "sess = tf.InteractiveSession()"
   ]
  },
  {
   "cell_type": "code",
   "execution_count": 24,
   "metadata": {},
   "outputs": [],
   "source": [
    "#sess = tf_debug.LocalCLIDebugWrapperSession(sess)\n",
    "#sess.add_tensor_filter(\"has_inf_or_nan\", tf_debug.has_inf_or_nan)"
   ]
  },
  {
   "cell_type": "code",
   "execution_count": 25,
   "metadata": {},
   "outputs": [],
   "source": [
    "tf.global_variables_initializer().run()"
   ]
  },
  {
   "cell_type": "code",
   "execution_count": 26,
   "metadata": {},
   "outputs": [],
   "source": [
    "#sess.run([loss], {x_inp:X_val[:5], y_inp:y_val[:5]})"
   ]
  },
  {
   "cell_type": "code",
   "execution_count": 27,
   "metadata": {},
   "outputs": [],
   "source": [
    "#%time evaluate(X_val, y_val)"
   ]
  },
  {
   "cell_type": "code",
   "execution_count": 28,
   "metadata": {},
   "outputs": [
    {
     "name": "stdout",
     "output_type": "stream",
     "text": [
      "CPU times: user 41.1 s, sys: 4.86 s, total: 46 s\n",
      "Wall time: 12.5 s\n"
     ]
    },
    {
     "data": {
      "text/plain": [
       "0.11"
      ]
     },
     "execution_count": 28,
     "metadata": {},
     "output_type": "execute_result"
    }
   ],
   "source": [
    "%time evaluate(X_train, y_train)"
   ]
  },
  {
   "cell_type": "code",
   "execution_count": 29,
   "metadata": {},
   "outputs": [],
   "source": [
    "evaluate_op = tf.py_func(lambda: evaluate(X_val, y_val), [], tf.float64, stateful=True, name='eval_op')"
   ]
  },
  {
   "cell_type": "code",
   "execution_count": 30,
   "metadata": {},
   "outputs": [],
   "source": [
    "evaluate_sum = tf.summary.scalar('eval_results', evaluate_op)"
   ]
  },
  {
   "cell_type": "code",
   "execution_count": 31,
   "metadata": {},
   "outputs": [],
   "source": [
    "#!rm -R /tmp/esave/\n",
    "#!mkdir /tmp/esave"
   ]
  },
  {
   "cell_type": "code",
   "execution_count": 32,
   "metadata": {},
   "outputs": [],
   "source": [
    "saver = tf.train.Saver()"
   ]
  },
  {
   "cell_type": "code",
   "execution_count": 33,
   "metadata": {},
   "outputs": [],
   "source": [
    "#saver.restore(sess, '/tmp/esave')"
   ]
  },
  {
   "cell_type": "code",
   "execution_count": 34,
   "metadata": {},
   "outputs": [],
   "source": [
    "#saver.save(sess, '/tmp/esave')"
   ]
  },
  {
   "cell_type": "code",
   "execution_count": 35,
   "metadata": {},
   "outputs": [],
   "source": [
    "#%time evaluate(X_train, y_train)"
   ]
  },
  {
   "cell_type": "code",
   "execution_count": 36,
   "metadata": {},
   "outputs": [],
   "source": [
    "losses = []\n",
    "accs = []\n",
    "nans = []"
   ]
  },
  {
   "cell_type": "code",
   "execution_count": 37,
   "metadata": {},
   "outputs": [],
   "source": [
    "#plt.plot(range(len(nans)), nans)\n",
    "#plt.show()"
   ]
  },
  {
   "cell_type": "code",
   "execution_count": 38,
   "metadata": {},
   "outputs": [],
   "source": [
    "epoch = 0"
   ]
  },
  {
   "cell_type": "code",
   "execution_count": null,
   "metadata": {
    "scrolled": false
   },
   "outputs": [],
   "source": [
    "for epoch in range(epoch, 10000):\n",
    "    epoch_nans = 0\n",
    "    for ix in range(len(X_train)//batchsize - 1):\n",
    "        ix0 = ix*batchsize\n",
    "        ix1 = (ix+1)*batchsize\n",
    "        X, y = X_train[ix0:ix1], y_train[ix0:ix1]\n",
    "        \n",
    "        try:\n",
    "            loss_ = train(X,y)\n",
    "        except tf.errors.InvalidArgumentError:\n",
    "            print('got nan')\n",
    "            epoch_nans += 1\n",
    "            raise\n",
    "        \n",
    "        if ix % 10 == 0:\n",
    "            losses.append(loss_)\n",
    "    nans.append(epoch_nans)\n",
    "        \n",
    "    if epoch % 10 == 0:\n",
    "        writer.add_summary(hist_sum.eval(), global_step=epoch)\n",
    "        writer.add_summary(eval_loss(X,y), global_step=epoch)\n",
    "        \n",
    "        if epoch % 30:\n",
    "            writer.add_summary(evaluate_sum.eval(), global_step=epoch)"
   ]
  },
  {
   "cell_type": "code",
   "execution_count": null,
   "metadata": {
    "collapsed": true
   },
   "outputs": [],
   "source": []
  }
 ],
 "metadata": {
  "anaconda-cloud": {},
  "kernelspec": {
   "display_name": "Python 3",
   "language": "python",
   "name": "python3"
  },
  "language_info": {
   "codemirror_mode": {
    "name": "ipython",
    "version": 3
   },
   "file_extension": ".py",
   "mimetype": "text/x-python",
   "name": "python",
   "nbconvert_exporter": "python",
   "pygments_lexer": "ipython3",
   "version": "3.6.3"
  }
 },
 "nbformat": 4,
 "nbformat_minor": 2
}
